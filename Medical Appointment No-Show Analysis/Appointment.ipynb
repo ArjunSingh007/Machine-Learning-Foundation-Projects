{
 "cells": [
  {
   "cell_type": "markdown",
   "metadata": {},
   "source": [
    "\n",
    "# Project: Investigate a Medical Appointment No-Show Dataset\n",
    "\n",
    "## Table of Contents\n",
    "<ul>\n",
    "<li><a href=\"#intro\">Introduction</a></li>\n",
    "<li><a href=\"#wrangling\">Data Wrangling</a></li>\n",
    "<li><a href=\"#eda\">Exploratory Data Analysis</a></li>\n",
    "<li><a href=\"#conclusions\">Conclusions</a></li>\n",
    "</ul>"
   ]
  },
  {
   "cell_type": "markdown",
   "metadata": {},
   "source": [
    "<a id='intro'></a>\n",
    "## Introduction\n",
    "\n",
    "In this project, I am going to perform a data analysis on the Medical appointment dataset in which I will see the pattern of the patient who were present on the booked day of appointment and the patient who miss their appointments.\n",
    "\n",
    "With such an amazing dataset some obvious question out of curiosity arises like,\n",
    "\n",
    "1. <a href=\"#question1\">Does the patient who receive SMS show-up more as comparied to those doesn't receive any SMS?</a>\n",
    "2. <a href=\"#question2\">Does the difference between the scheduled date and the actual date of appointment affect the patients show up?</a>\n",
    "3. <a href=\"#question3\">Which Age Group is more likely to show up on the day of appointment?</a>\n",
    "4. <a href=\"#question4\">For which condition the patient show-up is the highest?</a>\n",
    "5. <a href=\"#question5\">Does the patient who got scholarship have less presence or more as compaired to those who didn't get scholarship?</a>\n",
    "6. <a href=\"#question6\">What is the percentage of show-up on the appointment day according to the day of the week?</a>"
   ]
  },
  {
   "cell_type": "markdown",
   "metadata": {},
   "source": [
    "### IMPORTING LIBRARIES"
   ]
  },
  {
   "cell_type": "code",
   "execution_count": 1,
   "metadata": {
    "collapsed": true
   },
   "outputs": [],
   "source": [
    "# Importing important libraries which are reqired in this project\n",
    "%matplotlib inline  \n",
    "# Magic keyword to plot the graph \n",
    "\n",
    "import pandas as pd  \n",
    "import numpy as np\n",
    "import seaborn as sns\n",
    "import matplotlib.pyplot as plt"
   ]
  },
  {
   "cell_type": "markdown",
   "metadata": {},
   "source": [
    "<a id='wrangling'></a>\n",
    "## Data Wrangling\n",
    "\n",
    "### General Properties"
   ]
  },
  {
   "cell_type": "code",
   "execution_count": 2,
   "metadata": {},
   "outputs": [
    {
     "data": {
      "text/html": [
       "<div>\n",
       "<style>\n",
       "    .dataframe thead tr:only-child th {\n",
       "        text-align: right;\n",
       "    }\n",
       "\n",
       "    .dataframe thead th {\n",
       "        text-align: left;\n",
       "    }\n",
       "\n",
       "    .dataframe tbody tr th {\n",
       "        vertical-align: top;\n",
       "    }\n",
       "</style>\n",
       "<table border=\"1\" class=\"dataframe\">\n",
       "  <thead>\n",
       "    <tr style=\"text-align: right;\">\n",
       "      <th></th>\n",
       "      <th>PatientId</th>\n",
       "      <th>AppointmentID</th>\n",
       "      <th>Gender</th>\n",
       "      <th>ScheduledDay</th>\n",
       "      <th>AppointmentDay</th>\n",
       "      <th>Age</th>\n",
       "      <th>Neighbourhood</th>\n",
       "      <th>Scholarship</th>\n",
       "      <th>Hipertension</th>\n",
       "      <th>Diabetes</th>\n",
       "      <th>Alcoholism</th>\n",
       "      <th>Handcap</th>\n",
       "      <th>SMS_received</th>\n",
       "      <th>No-show</th>\n",
       "    </tr>\n",
       "  </thead>\n",
       "  <tbody>\n",
       "    <tr>\n",
       "      <th>0</th>\n",
       "      <td>2.987250e+13</td>\n",
       "      <td>5642903</td>\n",
       "      <td>F</td>\n",
       "      <td>2016-04-29 18:38:08</td>\n",
       "      <td>2016-04-29</td>\n",
       "      <td>62</td>\n",
       "      <td>JARDIM DA PENHA</td>\n",
       "      <td>0</td>\n",
       "      <td>1</td>\n",
       "      <td>0</td>\n",
       "      <td>0</td>\n",
       "      <td>0</td>\n",
       "      <td>0</td>\n",
       "      <td>No</td>\n",
       "    </tr>\n",
       "    <tr>\n",
       "      <th>1</th>\n",
       "      <td>5.589978e+14</td>\n",
       "      <td>5642503</td>\n",
       "      <td>M</td>\n",
       "      <td>2016-04-29 16:08:27</td>\n",
       "      <td>2016-04-29</td>\n",
       "      <td>56</td>\n",
       "      <td>JARDIM DA PENHA</td>\n",
       "      <td>0</td>\n",
       "      <td>0</td>\n",
       "      <td>0</td>\n",
       "      <td>0</td>\n",
       "      <td>0</td>\n",
       "      <td>0</td>\n",
       "      <td>No</td>\n",
       "    </tr>\n",
       "    <tr>\n",
       "      <th>2</th>\n",
       "      <td>4.262962e+12</td>\n",
       "      <td>5642549</td>\n",
       "      <td>F</td>\n",
       "      <td>2016-04-29 16:19:04</td>\n",
       "      <td>2016-04-29</td>\n",
       "      <td>62</td>\n",
       "      <td>MATA DA PRAIA</td>\n",
       "      <td>0</td>\n",
       "      <td>0</td>\n",
       "      <td>0</td>\n",
       "      <td>0</td>\n",
       "      <td>0</td>\n",
       "      <td>0</td>\n",
       "      <td>No</td>\n",
       "    </tr>\n",
       "    <tr>\n",
       "      <th>3</th>\n",
       "      <td>8.679512e+11</td>\n",
       "      <td>5642828</td>\n",
       "      <td>F</td>\n",
       "      <td>2016-04-29 17:29:31</td>\n",
       "      <td>2016-04-29</td>\n",
       "      <td>8</td>\n",
       "      <td>PONTAL DE CAMBURI</td>\n",
       "      <td>0</td>\n",
       "      <td>0</td>\n",
       "      <td>0</td>\n",
       "      <td>0</td>\n",
       "      <td>0</td>\n",
       "      <td>0</td>\n",
       "      <td>No</td>\n",
       "    </tr>\n",
       "    <tr>\n",
       "      <th>4</th>\n",
       "      <td>8.841186e+12</td>\n",
       "      <td>5642494</td>\n",
       "      <td>F</td>\n",
       "      <td>2016-04-29 16:07:23</td>\n",
       "      <td>2016-04-29</td>\n",
       "      <td>56</td>\n",
       "      <td>JARDIM DA PENHA</td>\n",
       "      <td>0</td>\n",
       "      <td>1</td>\n",
       "      <td>1</td>\n",
       "      <td>0</td>\n",
       "      <td>0</td>\n",
       "      <td>0</td>\n",
       "      <td>No</td>\n",
       "    </tr>\n",
       "  </tbody>\n",
       "</table>\n",
       "</div>"
      ],
      "text/plain": [
       "      PatientId  AppointmentID Gender        ScheduledDay AppointmentDay  Age  \\\n",
       "0  2.987250e+13        5642903      F 2016-04-29 18:38:08     2016-04-29   62   \n",
       "1  5.589978e+14        5642503      M 2016-04-29 16:08:27     2016-04-29   56   \n",
       "2  4.262962e+12        5642549      F 2016-04-29 16:19:04     2016-04-29   62   \n",
       "3  8.679512e+11        5642828      F 2016-04-29 17:29:31     2016-04-29    8   \n",
       "4  8.841186e+12        5642494      F 2016-04-29 16:07:23     2016-04-29   56   \n",
       "\n",
       "       Neighbourhood  Scholarship  Hipertension  Diabetes  Alcoholism  \\\n",
       "0    JARDIM DA PENHA            0             1         0           0   \n",
       "1    JARDIM DA PENHA            0             0         0           0   \n",
       "2      MATA DA PRAIA            0             0         0           0   \n",
       "3  PONTAL DE CAMBURI            0             0         0           0   \n",
       "4    JARDIM DA PENHA            0             1         1           0   \n",
       "\n",
       "   Handcap  SMS_received No-show  \n",
       "0        0             0      No  \n",
       "1        0             0      No  \n",
       "2        0             0      No  \n",
       "3        0             0      No  \n",
       "4        0             0      No  "
      ]
     },
     "execution_count": 2,
     "metadata": {},
     "output_type": "execute_result"
    }
   ],
   "source": [
    "# Reading the csv file into a pandas datafram \n",
    "df = pd.read_csv('noshowappointments-kagglev2-may-2016.csv',parse_dates = ['ScheduledDay','AppointmentDay'])\n",
    "df.head() # Top view of the data"
   ]
  },
  {
   "cell_type": "markdown",
   "metadata": {},
   "source": [
    "> Since __ScheduledDay__ and __AppointmentDay__ are date and time values so we read them as date object using *parse_dates* parameter of read_csv function."
   ]
  },
  {
   "cell_type": "markdown",
   "metadata": {},
   "source": [
    "<a id='memory'></a>"
   ]
  },
  {
   "cell_type": "code",
   "execution_count": 3,
   "metadata": {},
   "outputs": [
    {
     "name": "stdout",
     "output_type": "stream",
     "text": [
      "<class 'pandas.core.frame.DataFrame'>\n",
      "RangeIndex: 110527 entries, 0 to 110526\n",
      "Data columns (total 14 columns):\n",
      "PatientId         110527 non-null float64\n",
      "AppointmentID     110527 non-null int64\n",
      "Gender            110527 non-null object\n",
      "ScheduledDay      110527 non-null datetime64[ns]\n",
      "AppointmentDay    110527 non-null datetime64[ns]\n",
      "Age               110527 non-null int64\n",
      "Neighbourhood     110527 non-null object\n",
      "Scholarship       110527 non-null int64\n",
      "Hipertension      110527 non-null int64\n",
      "Diabetes          110527 non-null int64\n",
      "Alcoholism        110527 non-null int64\n",
      "Handcap           110527 non-null int64\n",
      "SMS_received      110527 non-null int64\n",
      "No-show           110527 non-null object\n",
      "dtypes: datetime64[ns](2), float64(1), int64(8), object(3)\n",
      "memory usage: 11.8+ MB\n"
     ]
    }
   ],
   "source": [
    "df.info()"
   ]
  },
  {
   "cell_type": "markdown",
   "metadata": {},
   "source": [
    "#### Data Details:  \n",
    "- There are 110,527 rows(or observation) and 14 columns(or variables) in the dataframe.  \n",
    "- There are no null observation for any variable.  \n",
    "\n",
    "Variables:\n",
    "- AppointmentID : An identification of every appoinment.\n",
    "- PatientId : An identification of patient.\n",
    "- Gender : Gender of patient which can be either 'M' for male and 'F' for female.\n",
    "- ScheduledDay : Day on which the appointment with the doctor was booked.\n",
    "- AppointmentDay : The day of actual appointment.\n",
    "- Age : Age of the patient.\n",
    "- Neighourhood : The palce where the appointment is going to take place.\n",
    "- Scholarship : Whether the family of the patient takes part in the Bolsa Familia Program, an initiative that provides families with small cash transfers in exchange for keeping children in school and completing health care visits.\n",
    "- Hipertension : Whether the patient have hipertension or not.\n",
    "- Diabetes : Whether the patient have diabetes or not.\n",
    "- Alcoholism : Whether the patient is addicted to alcohol or not.\n",
    "- Handcap : Whether the patient is handicap or not.\n",
    "- SMS_received : Whether the patient received any message as a reminder for the appointment.\n",
    "- No-show : If the patient showed up on the day of appoinment then it is 'No' otherwise 'Yes'.\n"
   ]
  },
  {
   "cell_type": "markdown",
   "metadata": {},
   "source": [
    "\n",
    "### Data Cleaning (Converting variables into proper data types!)"
   ]
  },
  {
   "cell_type": "markdown",
   "metadata": {},
   "source": [
    "**1)** First we will check if there are any null observations or not in dataframe."
   ]
  },
  {
   "cell_type": "code",
   "execution_count": 4,
   "metadata": {},
   "outputs": [
    {
     "data": {
      "text/html": [
       "<div>\n",
       "<style>\n",
       "    .dataframe thead tr:only-child th {\n",
       "        text-align: right;\n",
       "    }\n",
       "\n",
       "    .dataframe thead th {\n",
       "        text-align: left;\n",
       "    }\n",
       "\n",
       "    .dataframe tbody tr th {\n",
       "        vertical-align: top;\n",
       "    }\n",
       "</style>\n",
       "<table border=\"1\" class=\"dataframe\">\n",
       "  <thead>\n",
       "    <tr style=\"text-align: right;\">\n",
       "      <th></th>\n",
       "      <th>PatientId</th>\n",
       "      <th>AppointmentID</th>\n",
       "      <th>Gender</th>\n",
       "      <th>ScheduledDay</th>\n",
       "      <th>AppointmentDay</th>\n",
       "      <th>Age</th>\n",
       "      <th>Neighbourhood</th>\n",
       "      <th>Scholarship</th>\n",
       "      <th>Hipertension</th>\n",
       "      <th>Diabetes</th>\n",
       "      <th>Alcoholism</th>\n",
       "      <th>Handcap</th>\n",
       "      <th>SMS_received</th>\n",
       "      <th>No-show</th>\n",
       "    </tr>\n",
       "  </thead>\n",
       "  <tbody>\n",
       "  </tbody>\n",
       "</table>\n",
       "</div>"
      ],
      "text/plain": [
       "Empty DataFrame\n",
       "Columns: [PatientId, AppointmentID, Gender, ScheduledDay, AppointmentDay, Age, Neighbourhood, Scholarship, Hipertension, Diabetes, Alcoholism, Handcap, SMS_received, No-show]\n",
       "Index: []"
      ]
     },
     "execution_count": 4,
     "metadata": {},
     "output_type": "execute_result"
    }
   ],
   "source": [
    "# The combination of isnull and any function on the dataframe check whether there is any value \n",
    "# in any observation if there is any null value then this expression will return a True value \n",
    "# Else false. If value of any row comes to be true then it will get printed using the square brackets.\n",
    "\n",
    "df[df.isnull().any(axis=1)]"
   ]
  },
  {
   "cell_type": "markdown",
   "metadata": {},
   "source": [
    "> As we can see that zero rows are printed in the ouput which means there is no null value in the dataframe.  "
   ]
  },
  {
   "cell_type": "markdown",
   "metadata": {},
   "source": [
    "**2)** The _No-show_ variable is very confusing to understand as 'No' is when the patients show up and 'Yes' when he/she didn't show up. So wil create a new variable _Show_ from the _No-show_ variable which is 1 when the patient shows up and 0 when he/she didn't show up."
   ]
  },
  {
   "cell_type": "code",
   "execution_count": 5,
   "metadata": {},
   "outputs": [
    {
     "name": "stdout",
     "output_type": "stream",
     "text": [
      "No     88208\n",
      "Yes    22319\n",
      "Name: No-show, dtype: int64\n",
      "   Show No-show\n",
      "0     1      No\n",
      "1     1      No\n",
      "2     1      No\n",
      "3     1      No\n",
      "4     1      No\n",
      "5     1      No\n",
      "6     0     Yes\n",
      "7     0     Yes\n",
      "8     1      No\n",
      "9     1      No\n"
     ]
    }
   ],
   "source": [
    "print(df['No-show'].value_counts()) # Check if No-show contain any value other than 'No' and 'Yes'\n",
    "\n",
    "df['Show'] = np.where(df['No-show'].str.contains('No'),1,0) # Creating new variable using the 'No-show' variable \n",
    "\n",
    "print(df[['Show','No-show']].head(10)) # Print the head of Show and No-Show variable \n",
    "\n",
    "df2 = df.drop('No-show',axis=1) # Deleting the No-show variable as it is not required anymore.\n",
    "# After droping the column we saved the dataframe into new variable so that we can access our original data whenever required."
   ]
  },
  {
   "cell_type": "markdown",
   "metadata": {},
   "source": [
    "> After creating the new varible 'Show' we dropped the old column 'No-show'."
   ]
  },
  {
   "cell_type": "markdown",
   "metadata": {},
   "source": [
    "**3)** As we will need to compare our data on the basis of day of the week of appointment so we will make a new column *AppointmentDayOfWeek*."
   ]
  },
  {
   "cell_type": "code",
   "execution_count": 6,
   "metadata": {},
   "outputs": [
    {
     "name": "stdout",
     "output_type": "stream",
     "text": [
      "Tuesday      26168\n",
      "Wednesday    24262\n",
      "Monday       23085\n",
      "Friday       18915\n",
      "Thursday     18073\n",
      "Saturday        24\n",
      "Name: ScheduledDayOfWeek, dtype: int64\n",
      "Wednesday    25867\n",
      "Tuesday      25640\n",
      "Monday       22715\n",
      "Friday       19019\n",
      "Thursday     17247\n",
      "Saturday        39\n",
      "Name: AppointmentDayOfWeek, dtype: int64\n"
     ]
    }
   ],
   "source": [
    "# Extracting the day of week using dt method on date time object\n",
    "df2['ScheduledDayOfWeek'] = df2.ScheduledDay.dt.weekday_name\n",
    "print(df2.ScheduledDayOfWeek.value_counts())\n",
    "\n",
    "df2['AppointmentDayOfWeek'] = df2.AppointmentDay.dt.weekday_name\n",
    "print(df2.AppointmentDayOfWeek.value_counts())"
   ]
  },
  {
   "cell_type": "markdown",
   "metadata": {},
   "source": [
    "> Most of the appointment were made during weekdays and very few during weekends."
   ]
  },
  {
   "cell_type": "markdown",
   "metadata": {},
   "source": [
    "**4)** The **SchelduledDay** variable contains both the date and the time of the appointment whereas the **AppointmentDay** variable contains only the date of the actual appointment. Therefore we will make both of these variable comparable by elminating the time from the **SchelduledDay** variable."
   ]
  },
  {
   "cell_type": "code",
   "execution_count": 7,
   "metadata": {},
   "outputs": [
    {
     "name": "stdout",
     "output_type": "stream",
     "text": [
      "         ScheduledDay AppointmentDay\n",
      "0 2016-04-29 18:38:08     2016-04-29\n",
      "1 2016-04-29 16:08:27     2016-04-29\n",
      "2 2016-04-29 16:19:04     2016-04-29\n",
      "3 2016-04-29 17:29:31     2016-04-29\n",
      "4 2016-04-29 16:07:23     2016-04-29\n"
     ]
    },
    {
     "data": {
      "text/html": [
       "<div>\n",
       "<style>\n",
       "    .dataframe thead tr:only-child th {\n",
       "        text-align: right;\n",
       "    }\n",
       "\n",
       "    .dataframe thead th {\n",
       "        text-align: left;\n",
       "    }\n",
       "\n",
       "    .dataframe tbody tr th {\n",
       "        vertical-align: top;\n",
       "    }\n",
       "</style>\n",
       "<table border=\"1\" class=\"dataframe\">\n",
       "  <thead>\n",
       "    <tr style=\"text-align: right;\">\n",
       "      <th></th>\n",
       "      <th>ScheduledDay</th>\n",
       "      <th>AppointmentDay</th>\n",
       "    </tr>\n",
       "  </thead>\n",
       "  <tbody>\n",
       "    <tr>\n",
       "      <th>0</th>\n",
       "      <td>2016-04-29</td>\n",
       "      <td>2016-04-29</td>\n",
       "    </tr>\n",
       "    <tr>\n",
       "      <th>1</th>\n",
       "      <td>2016-04-29</td>\n",
       "      <td>2016-04-29</td>\n",
       "    </tr>\n",
       "    <tr>\n",
       "      <th>2</th>\n",
       "      <td>2016-04-29</td>\n",
       "      <td>2016-04-29</td>\n",
       "    </tr>\n",
       "    <tr>\n",
       "      <th>3</th>\n",
       "      <td>2016-04-29</td>\n",
       "      <td>2016-04-29</td>\n",
       "    </tr>\n",
       "    <tr>\n",
       "      <th>4</th>\n",
       "      <td>2016-04-29</td>\n",
       "      <td>2016-04-29</td>\n",
       "    </tr>\n",
       "  </tbody>\n",
       "</table>\n",
       "</div>"
      ],
      "text/plain": [
       "  ScheduledDay AppointmentDay\n",
       "0   2016-04-29     2016-04-29\n",
       "1   2016-04-29     2016-04-29\n",
       "2   2016-04-29     2016-04-29\n",
       "3   2016-04-29     2016-04-29\n",
       "4   2016-04-29     2016-04-29"
      ]
     },
     "execution_count": 7,
     "metadata": {},
     "output_type": "execute_result"
    }
   ],
   "source": [
    "print(df2[['ScheduledDay','AppointmentDay']].head()) # Before \n",
    "\n",
    "df2.ScheduledDay =  pd.to_datetime(df2.ScheduledDay.dt.date) # Extracting only the date value from the date-time vaiable.\n",
    "\n",
    "df2[['ScheduledDay','AppointmentDay']].head() # After"
   ]
  },
  {
   "cell_type": "markdown",
   "metadata": {},
   "source": [
    "**5)** Since _ScheduledDay_ and _AppointmentDay_ both are now comparable so now we will check that _AppoinmentDay_ for each observation is always equal or ahead of _ScheduledDay_. "
   ]
  },
  {
   "cell_type": "code",
   "execution_count": 8,
   "metadata": {},
   "outputs": [
    {
     "data": {
      "text/html": [
       "<div>\n",
       "<style>\n",
       "    .dataframe thead tr:only-child th {\n",
       "        text-align: right;\n",
       "    }\n",
       "\n",
       "    .dataframe thead th {\n",
       "        text-align: left;\n",
       "    }\n",
       "\n",
       "    .dataframe tbody tr th {\n",
       "        vertical-align: top;\n",
       "    }\n",
       "</style>\n",
       "<table border=\"1\" class=\"dataframe\">\n",
       "  <thead>\n",
       "    <tr style=\"text-align: right;\">\n",
       "      <th></th>\n",
       "      <th>PatientId</th>\n",
       "      <th>AppointmentID</th>\n",
       "      <th>Gender</th>\n",
       "      <th>ScheduledDay</th>\n",
       "      <th>AppointmentDay</th>\n",
       "      <th>Age</th>\n",
       "      <th>Neighbourhood</th>\n",
       "      <th>Scholarship</th>\n",
       "      <th>Hipertension</th>\n",
       "      <th>Diabetes</th>\n",
       "      <th>Alcoholism</th>\n",
       "      <th>Handcap</th>\n",
       "      <th>SMS_received</th>\n",
       "      <th>Show</th>\n",
       "      <th>ScheduledDayOfWeek</th>\n",
       "      <th>AppointmentDayOfWeek</th>\n",
       "    </tr>\n",
       "  </thead>\n",
       "  <tbody>\n",
       "    <tr>\n",
       "      <th>27033</th>\n",
       "      <td>7.839273e+12</td>\n",
       "      <td>5679978</td>\n",
       "      <td>M</td>\n",
       "      <td>2016-05-10</td>\n",
       "      <td>2016-05-09</td>\n",
       "      <td>38</td>\n",
       "      <td>RESISTÊNCIA</td>\n",
       "      <td>0</td>\n",
       "      <td>0</td>\n",
       "      <td>0</td>\n",
       "      <td>0</td>\n",
       "      <td>1</td>\n",
       "      <td>0</td>\n",
       "      <td>0</td>\n",
       "      <td>Tuesday</td>\n",
       "      <td>Monday</td>\n",
       "    </tr>\n",
       "    <tr>\n",
       "      <th>55226</th>\n",
       "      <td>7.896294e+12</td>\n",
       "      <td>5715660</td>\n",
       "      <td>F</td>\n",
       "      <td>2016-05-18</td>\n",
       "      <td>2016-05-17</td>\n",
       "      <td>19</td>\n",
       "      <td>SANTO ANTÔNIO</td>\n",
       "      <td>0</td>\n",
       "      <td>0</td>\n",
       "      <td>0</td>\n",
       "      <td>0</td>\n",
       "      <td>1</td>\n",
       "      <td>0</td>\n",
       "      <td>0</td>\n",
       "      <td>Wednesday</td>\n",
       "      <td>Tuesday</td>\n",
       "    </tr>\n",
       "    <tr>\n",
       "      <th>64175</th>\n",
       "      <td>2.425226e+13</td>\n",
       "      <td>5664962</td>\n",
       "      <td>F</td>\n",
       "      <td>2016-05-05</td>\n",
       "      <td>2016-05-04</td>\n",
       "      <td>22</td>\n",
       "      <td>CONSOLAÇÃO</td>\n",
       "      <td>0</td>\n",
       "      <td>0</td>\n",
       "      <td>0</td>\n",
       "      <td>0</td>\n",
       "      <td>0</td>\n",
       "      <td>0</td>\n",
       "      <td>0</td>\n",
       "      <td>Thursday</td>\n",
       "      <td>Wednesday</td>\n",
       "    </tr>\n",
       "    <tr>\n",
       "      <th>71533</th>\n",
       "      <td>9.982316e+14</td>\n",
       "      <td>5686628</td>\n",
       "      <td>F</td>\n",
       "      <td>2016-05-11</td>\n",
       "      <td>2016-05-05</td>\n",
       "      <td>81</td>\n",
       "      <td>SANTO ANTÔNIO</td>\n",
       "      <td>0</td>\n",
       "      <td>0</td>\n",
       "      <td>0</td>\n",
       "      <td>0</td>\n",
       "      <td>0</td>\n",
       "      <td>0</td>\n",
       "      <td>0</td>\n",
       "      <td>Wednesday</td>\n",
       "      <td>Thursday</td>\n",
       "    </tr>\n",
       "    <tr>\n",
       "      <th>72362</th>\n",
       "      <td>3.787482e+12</td>\n",
       "      <td>5655637</td>\n",
       "      <td>M</td>\n",
       "      <td>2016-05-04</td>\n",
       "      <td>2016-05-03</td>\n",
       "      <td>7</td>\n",
       "      <td>TABUAZEIRO</td>\n",
       "      <td>0</td>\n",
       "      <td>0</td>\n",
       "      <td>0</td>\n",
       "      <td>0</td>\n",
       "      <td>0</td>\n",
       "      <td>0</td>\n",
       "      <td>0</td>\n",
       "      <td>Wednesday</td>\n",
       "      <td>Tuesday</td>\n",
       "    </tr>\n",
       "  </tbody>\n",
       "</table>\n",
       "</div>"
      ],
      "text/plain": [
       "          PatientId  AppointmentID Gender ScheduledDay AppointmentDay  Age  \\\n",
       "27033  7.839273e+12        5679978      M   2016-05-10     2016-05-09   38   \n",
       "55226  7.896294e+12        5715660      F   2016-05-18     2016-05-17   19   \n",
       "64175  2.425226e+13        5664962      F   2016-05-05     2016-05-04   22   \n",
       "71533  9.982316e+14        5686628      F   2016-05-11     2016-05-05   81   \n",
       "72362  3.787482e+12        5655637      M   2016-05-04     2016-05-03    7   \n",
       "\n",
       "       Neighbourhood  Scholarship  Hipertension  Diabetes  Alcoholism  \\\n",
       "27033    RESISTÊNCIA            0             0         0           0   \n",
       "55226  SANTO ANTÔNIO            0             0         0           0   \n",
       "64175     CONSOLAÇÃO            0             0         0           0   \n",
       "71533  SANTO ANTÔNIO            0             0         0           0   \n",
       "72362     TABUAZEIRO            0             0         0           0   \n",
       "\n",
       "       Handcap  SMS_received  Show ScheduledDayOfWeek AppointmentDayOfWeek  \n",
       "27033        1             0     0            Tuesday               Monday  \n",
       "55226        1             0     0          Wednesday              Tuesday  \n",
       "64175        0             0     0           Thursday            Wednesday  \n",
       "71533        0             0     0          Wednesday             Thursday  \n",
       "72362        0             0     0          Wednesday              Tuesday  "
      ]
     },
     "execution_count": 8,
     "metadata": {},
     "output_type": "execute_result"
    }
   ],
   "source": [
    "# The index where the date of booking is greater than the acutal day of appointment\n",
    "indexOfError = (df2[df2.ScheduledDay > df2.AppointmentDay]).index\n",
    "(df2.iloc[indexOfError])"
   ]
  },
  {
   "cell_type": "markdown",
   "metadata": {},
   "source": [
    "> From the output we can see that there are 5 appointment in which the date of booking the appointment is greater than the day of actual appointment.  \n",
    "The common things in these five observations:\n",
    "- None of the patient show-up.\n",
    "- Except for two handicap patients, none of them have any diseases.\n",
    "- None of them received any Scholarship.\n",
    "- None of them received any SMS.\n",
    "- All Appointment were made in the month of May.\n",
    "\n",
    "From above observation we can say that either these entries are false entries or their may be some other reason.  \n",
    "Let's check month wise appointment booked.\n"
   ]
  },
  {
   "cell_type": "code",
   "execution_count": 9,
   "metadata": {},
   "outputs": [
    {
     "name": "stdout",
     "output_type": "stream",
     "text": [
      "73.1414043627349\n",
      "60.999574764537165\n"
     ]
    }
   ],
   "source": [
    "# Percentage of actual appointment made only in the month of May\n",
    "print(df2.AppointmentDay.value_counts().loc['2016-05'].sum()/len(df2)*100)\n",
    "\n",
    "# Percentage of appointment booked only in the month of the May\n",
    "print(df2.ScheduledDay.value_counts().loc['2016-05'].sum()/len(df2)*100)"
   ]
  },
  {
   "cell_type": "markdown",
   "metadata": {},
   "source": [
    "> As we can see that 61% of apppointment booked and 73% of acutal appointment were made in the month of May only and due to that much of heavy booking wrong entries entered in the data. "
   ]
  },
  {
   "cell_type": "markdown",
   "metadata": {},
   "source": [
    "To solve this problem we will just make the day of scheduled equal to that of Appointment day."
   ]
  },
  {
   "cell_type": "code",
   "execution_count": 10,
   "metadata": {},
   "outputs": [
    {
     "data": {
      "text/html": [
       "<div>\n",
       "<style>\n",
       "    .dataframe thead tr:only-child th {\n",
       "        text-align: right;\n",
       "    }\n",
       "\n",
       "    .dataframe thead th {\n",
       "        text-align: left;\n",
       "    }\n",
       "\n",
       "    .dataframe tbody tr th {\n",
       "        vertical-align: top;\n",
       "    }\n",
       "</style>\n",
       "<table border=\"1\" class=\"dataframe\">\n",
       "  <thead>\n",
       "    <tr style=\"text-align: right;\">\n",
       "      <th></th>\n",
       "      <th>PatientId</th>\n",
       "      <th>AppointmentID</th>\n",
       "      <th>Gender</th>\n",
       "      <th>ScheduledDay</th>\n",
       "      <th>AppointmentDay</th>\n",
       "      <th>Age</th>\n",
       "      <th>Neighbourhood</th>\n",
       "      <th>Scholarship</th>\n",
       "      <th>Hipertension</th>\n",
       "      <th>Diabetes</th>\n",
       "      <th>Alcoholism</th>\n",
       "      <th>Handcap</th>\n",
       "      <th>SMS_received</th>\n",
       "      <th>Show</th>\n",
       "      <th>ScheduledDayOfWeek</th>\n",
       "      <th>AppointmentDayOfWeek</th>\n",
       "    </tr>\n",
       "  </thead>\n",
       "  <tbody>\n",
       "    <tr>\n",
       "      <th>27033</th>\n",
       "      <td>7.839273e+12</td>\n",
       "      <td>5679978</td>\n",
       "      <td>M</td>\n",
       "      <td>2016-05-09</td>\n",
       "      <td>2016-05-09</td>\n",
       "      <td>38</td>\n",
       "      <td>RESISTÊNCIA</td>\n",
       "      <td>0</td>\n",
       "      <td>0</td>\n",
       "      <td>0</td>\n",
       "      <td>0</td>\n",
       "      <td>1</td>\n",
       "      <td>0</td>\n",
       "      <td>0</td>\n",
       "      <td>Monday</td>\n",
       "      <td>Monday</td>\n",
       "    </tr>\n",
       "    <tr>\n",
       "      <th>55226</th>\n",
       "      <td>7.896294e+12</td>\n",
       "      <td>5715660</td>\n",
       "      <td>F</td>\n",
       "      <td>2016-05-17</td>\n",
       "      <td>2016-05-17</td>\n",
       "      <td>19</td>\n",
       "      <td>SANTO ANTÔNIO</td>\n",
       "      <td>0</td>\n",
       "      <td>0</td>\n",
       "      <td>0</td>\n",
       "      <td>0</td>\n",
       "      <td>1</td>\n",
       "      <td>0</td>\n",
       "      <td>0</td>\n",
       "      <td>Tuesday</td>\n",
       "      <td>Tuesday</td>\n",
       "    </tr>\n",
       "    <tr>\n",
       "      <th>64175</th>\n",
       "      <td>2.425226e+13</td>\n",
       "      <td>5664962</td>\n",
       "      <td>F</td>\n",
       "      <td>2016-05-04</td>\n",
       "      <td>2016-05-04</td>\n",
       "      <td>22</td>\n",
       "      <td>CONSOLAÇÃO</td>\n",
       "      <td>0</td>\n",
       "      <td>0</td>\n",
       "      <td>0</td>\n",
       "      <td>0</td>\n",
       "      <td>0</td>\n",
       "      <td>0</td>\n",
       "      <td>0</td>\n",
       "      <td>Wednesday</td>\n",
       "      <td>Wednesday</td>\n",
       "    </tr>\n",
       "    <tr>\n",
       "      <th>71533</th>\n",
       "      <td>9.982316e+14</td>\n",
       "      <td>5686628</td>\n",
       "      <td>F</td>\n",
       "      <td>2016-05-05</td>\n",
       "      <td>2016-05-05</td>\n",
       "      <td>81</td>\n",
       "      <td>SANTO ANTÔNIO</td>\n",
       "      <td>0</td>\n",
       "      <td>0</td>\n",
       "      <td>0</td>\n",
       "      <td>0</td>\n",
       "      <td>0</td>\n",
       "      <td>0</td>\n",
       "      <td>0</td>\n",
       "      <td>Thursday</td>\n",
       "      <td>Thursday</td>\n",
       "    </tr>\n",
       "    <tr>\n",
       "      <th>72362</th>\n",
       "      <td>3.787482e+12</td>\n",
       "      <td>5655637</td>\n",
       "      <td>M</td>\n",
       "      <td>2016-05-03</td>\n",
       "      <td>2016-05-03</td>\n",
       "      <td>7</td>\n",
       "      <td>TABUAZEIRO</td>\n",
       "      <td>0</td>\n",
       "      <td>0</td>\n",
       "      <td>0</td>\n",
       "      <td>0</td>\n",
       "      <td>0</td>\n",
       "      <td>0</td>\n",
       "      <td>0</td>\n",
       "      <td>Tuesday</td>\n",
       "      <td>Tuesday</td>\n",
       "    </tr>\n",
       "  </tbody>\n",
       "</table>\n",
       "</div>"
      ],
      "text/plain": [
       "          PatientId  AppointmentID Gender ScheduledDay AppointmentDay  Age  \\\n",
       "27033  7.839273e+12        5679978      M   2016-05-09     2016-05-09   38   \n",
       "55226  7.896294e+12        5715660      F   2016-05-17     2016-05-17   19   \n",
       "64175  2.425226e+13        5664962      F   2016-05-04     2016-05-04   22   \n",
       "71533  9.982316e+14        5686628      F   2016-05-05     2016-05-05   81   \n",
       "72362  3.787482e+12        5655637      M   2016-05-03     2016-05-03    7   \n",
       "\n",
       "       Neighbourhood  Scholarship  Hipertension  Diabetes  Alcoholism  \\\n",
       "27033    RESISTÊNCIA            0             0         0           0   \n",
       "55226  SANTO ANTÔNIO            0             0         0           0   \n",
       "64175     CONSOLAÇÃO            0             0         0           0   \n",
       "71533  SANTO ANTÔNIO            0             0         0           0   \n",
       "72362     TABUAZEIRO            0             0         0           0   \n",
       "\n",
       "       Handcap  SMS_received  Show ScheduledDayOfWeek AppointmentDayOfWeek  \n",
       "27033        1             0     0             Monday               Monday  \n",
       "55226        1             0     0            Tuesday              Tuesday  \n",
       "64175        0             0     0          Wednesday            Wednesday  \n",
       "71533        0             0     0           Thursday             Thursday  \n",
       "72362        0             0     0            Tuesday              Tuesday  "
      ]
     },
     "execution_count": 10,
     "metadata": {},
     "output_type": "execute_result"
    }
   ],
   "source": [
    "df2.loc[indexOfError,'ScheduledDay'] = df2.loc[indexOfError,'AppointmentDay']\n",
    "df2.loc[indexOfError,'ScheduledDayOfWeek'] = df2.loc[indexOfError,'AppointmentDayOfWeek']\n",
    "df2.loc[indexOfError]"
   ]
  },
  {
   "cell_type": "markdown",
   "metadata": {},
   "source": [
    "**6)** Now let's check the *Age* column:"
   ]
  },
  {
   "cell_type": "code",
   "execution_count": 11,
   "metadata": {},
   "outputs": [
    {
     "name": "stdout",
     "output_type": "stream",
     "text": [
      "-1       1\n",
      " 0    3539\n",
      " 1    2273\n",
      " 2    1618\n",
      " 3    1513\n",
      "Name: Age, dtype: int64\n",
      "98     6\n",
      "99     1\n",
      "100    4\n",
      "102    2\n",
      "115    5\n",
      "Name: Age, dtype: int64\n"
     ]
    }
   ],
   "source": [
    "# Checking the upper and lower ages of the patients\n",
    "print(df2.Age.value_counts().sort_index().head())\n",
    "print(df2.Age.value_counts().sort_index().tail())"
   ]
  },
  {
   "cell_type": "markdown",
   "metadata": {},
   "source": [
    "> The upper ages seems to be fine but the lower ages doesn't seems to be correct.\n",
    "The participant with the age of 0 are the new born babies.\n",
    "There is one participant with the age of -1, which is not correct.\n",
    "\n",
    "Let's check it out."
   ]
  },
  {
   "cell_type": "code",
   "execution_count": 12,
   "metadata": {},
   "outputs": [
    {
     "data": {
      "text/html": [
       "<div>\n",
       "<style>\n",
       "    .dataframe thead tr:only-child th {\n",
       "        text-align: right;\n",
       "    }\n",
       "\n",
       "    .dataframe thead th {\n",
       "        text-align: left;\n",
       "    }\n",
       "\n",
       "    .dataframe tbody tr th {\n",
       "        vertical-align: top;\n",
       "    }\n",
       "</style>\n",
       "<table border=\"1\" class=\"dataframe\">\n",
       "  <thead>\n",
       "    <tr style=\"text-align: right;\">\n",
       "      <th></th>\n",
       "      <th>PatientId</th>\n",
       "      <th>AppointmentID</th>\n",
       "      <th>Gender</th>\n",
       "      <th>ScheduledDay</th>\n",
       "      <th>AppointmentDay</th>\n",
       "      <th>Age</th>\n",
       "      <th>Neighbourhood</th>\n",
       "      <th>Scholarship</th>\n",
       "      <th>Hipertension</th>\n",
       "      <th>Diabetes</th>\n",
       "      <th>Alcoholism</th>\n",
       "      <th>Handcap</th>\n",
       "      <th>SMS_received</th>\n",
       "      <th>Show</th>\n",
       "      <th>ScheduledDayOfWeek</th>\n",
       "      <th>AppointmentDayOfWeek</th>\n",
       "    </tr>\n",
       "  </thead>\n",
       "  <tbody>\n",
       "    <tr>\n",
       "      <th>99832</th>\n",
       "      <td>4.659432e+14</td>\n",
       "      <td>5775010</td>\n",
       "      <td>F</td>\n",
       "      <td>2016-06-06</td>\n",
       "      <td>2016-06-06</td>\n",
       "      <td>-1</td>\n",
       "      <td>ROMÃO</td>\n",
       "      <td>0</td>\n",
       "      <td>0</td>\n",
       "      <td>0</td>\n",
       "      <td>0</td>\n",
       "      <td>0</td>\n",
       "      <td>0</td>\n",
       "      <td>1</td>\n",
       "      <td>Monday</td>\n",
       "      <td>Monday</td>\n",
       "    </tr>\n",
       "  </tbody>\n",
       "</table>\n",
       "</div>"
      ],
      "text/plain": [
       "          PatientId  AppointmentID Gender ScheduledDay AppointmentDay  Age  \\\n",
       "99832  4.659432e+14        5775010      F   2016-06-06     2016-06-06   -1   \n",
       "\n",
       "      Neighbourhood  Scholarship  Hipertension  Diabetes  Alcoholism  Handcap  \\\n",
       "99832         ROMÃO            0             0         0           0        0   \n",
       "\n",
       "       SMS_received  Show ScheduledDayOfWeek AppointmentDayOfWeek  \n",
       "99832             0     1             Monday               Monday  "
      ]
     },
     "execution_count": 12,
     "metadata": {},
     "output_type": "execute_result"
    }
   ],
   "source": [
    "# Finding the patient id of the patient whose age is -1\n",
    "# So that we can check at other observation the age of the patient.\n",
    "\n",
    "id = df2[df2.Age == -1]['PatientId'].values[0]\n",
    "df2[df2.PatientId == id]"
   ]
  },
  {
   "cell_type": "markdown",
   "metadata": {},
   "source": [
    "> With this patientId there is only one row so now comes the plan B."
   ]
  },
  {
   "cell_type": "markdown",
   "metadata": {},
   "source": [
    "> The Patient with age -1 could be an unborn baby, so we will make his/her age 0. "
   ]
  },
  {
   "cell_type": "code",
   "execution_count": 13,
   "metadata": {},
   "outputs": [
    {
     "data": {
      "text/plain": [
       "0"
      ]
     },
     "execution_count": 13,
     "metadata": {},
     "output_type": "execute_result"
    }
   ],
   "source": [
    "# Setting the age -1 to 0\n",
    "df2.loc[df2.Age == -1,'Age'] = 0\n",
    "\n",
    "# Check \n",
    "(df2.Age < 0).sum()"
   ]
  },
  {
   "cell_type": "markdown",
   "metadata": {},
   "source": [
    "**7)** Now we will check whether all the categorical variable have desired values only."
   ]
  },
  {
   "cell_type": "code",
   "execution_count": 14,
   "metadata": {},
   "outputs": [
    {
     "data": {
      "text/plain": [
       "True"
      ]
     },
     "execution_count": 14,
     "metadata": {},
     "output_type": "execute_result"
    }
   ],
   "source": [
    "# Checking whether all AppointmentId's are unique or not\n",
    "df2.AppointmentID.nunique() == len(df2)"
   ]
  },
  {
   "cell_type": "code",
   "execution_count": 15,
   "metadata": {},
   "outputs": [
    {
     "data": {
      "text/plain": [
       "F    71840\n",
       "M    38687\n",
       "Name: Gender, dtype: int64"
      ]
     },
     "execution_count": 15,
     "metadata": {},
     "output_type": "execute_result"
    }
   ],
   "source": [
    "# Checking whether Gender variable have value other than 'M' and 'F'\n",
    "df2.Gender.value_counts()"
   ]
  },
  {
   "cell_type": "code",
   "execution_count": 16,
   "metadata": {},
   "outputs": [
    {
     "data": {
      "text/plain": [
       "0    99666\n",
       "1    10861\n",
       "Name: Scholarship, dtype: int64"
      ]
     },
     "execution_count": 16,
     "metadata": {},
     "output_type": "execute_result"
    }
   ],
   "source": [
    "# Checking whether Scholarship column have value other than 0 or 1. \n",
    "df2.Scholarship.value_counts()"
   ]
  },
  {
   "cell_type": "code",
   "execution_count": 17,
   "metadata": {},
   "outputs": [
    {
     "data": {
      "text/plain": [
       "0    88726\n",
       "1    21801\n",
       "Name: Hipertension, dtype: int64"
      ]
     },
     "execution_count": 17,
     "metadata": {},
     "output_type": "execute_result"
    }
   ],
   "source": [
    "# Checking Whether Hipertension column have value other than 0 or 1.\n",
    "df2.Hipertension.value_counts()"
   ]
  },
  {
   "cell_type": "code",
   "execution_count": 18,
   "metadata": {},
   "outputs": [
    {
     "data": {
      "text/plain": [
       "0    102584\n",
       "1      7943\n",
       "Name: Diabetes, dtype: int64"
      ]
     },
     "execution_count": 18,
     "metadata": {},
     "output_type": "execute_result"
    }
   ],
   "source": [
    "# Checking whether Diabetes column have value other than 0 or 1.\n",
    "df2.Diabetes.value_counts()"
   ]
  },
  {
   "cell_type": "code",
   "execution_count": 19,
   "metadata": {},
   "outputs": [
    {
     "data": {
      "text/plain": [
       "0    107167\n",
       "1      3360\n",
       "Name: Alcoholism, dtype: int64"
      ]
     },
     "execution_count": 19,
     "metadata": {},
     "output_type": "execute_result"
    }
   ],
   "source": [
    "# Checking whether Alcoholism column have value other than 0 or 1.\n",
    "df2.Alcoholism.value_counts()"
   ]
  },
  {
   "cell_type": "code",
   "execution_count": 20,
   "metadata": {
    "scrolled": true
   },
   "outputs": [
    {
     "data": {
      "text/plain": [
       "0    108286\n",
       "1      2042\n",
       "2       183\n",
       "3        13\n",
       "4         3\n",
       "Name: Handcap, dtype: int64"
      ]
     },
     "execution_count": 20,
     "metadata": {},
     "output_type": "execute_result"
    }
   ],
   "source": [
    "# Checking whether Handicap column have value other than 0 or 1.\n",
    "df2.Handcap.value_counts()"
   ]
  },
  {
   "cell_type": "markdown",
   "metadata": {},
   "source": [
    "> Handcap column have value other than 0 or 1 which are 2,3 and 4. But we need only 0( or False) and 1(or True). So we will convert 2, 3 and 4 into 1 as they can be representing the severity of a handicap person."
   ]
  },
  {
   "cell_type": "code",
   "execution_count": 21,
   "metadata": {},
   "outputs": [
    {
     "data": {
      "text/plain": [
       "0    108286\n",
       "1      2241\n",
       "Name: Handcap, dtype: int64"
      ]
     },
     "execution_count": 21,
     "metadata": {},
     "output_type": "execute_result"
    }
   ],
   "source": [
    "df2.loc[df2.Handcap != 0,'Handcap'] = 1\n",
    "df2.Handcap.value_counts()"
   ]
  },
  {
   "cell_type": "code",
   "execution_count": 22,
   "metadata": {},
   "outputs": [
    {
     "data": {
      "text/plain": [
       "0    75045\n",
       "1    35482\n",
       "Name: SMS_received, dtype: int64"
      ]
     },
     "execution_count": 22,
     "metadata": {},
     "output_type": "execute_result"
    }
   ],
   "source": [
    "# Checking whether SMS_received\n",
    "df2.SMS_received.value_counts()"
   ]
  },
  {
   "cell_type": "markdown",
   "metadata": {},
   "source": [
    "**8)** As some of the variable have only two kind of values either 1 or 0 and they are of type int64 which takes lot of space. So we will convert these variables into categorical data type."
   ]
  },
  {
   "cell_type": "code",
   "execution_count": 23,
   "metadata": {
    "collapsed": true
   },
   "outputs": [],
   "source": [
    "# Function to convert a series into categorical data type.\n",
    "def convert_to_categorical(series):\n",
    "    return series.astype('category')\n",
    "\n",
    "# Using apply function we will convert the required variables into categorical data types.\n",
    "df2.loc[:,'Scholarship':'AppointmentDayOfWeek'] = df2.loc[:,'Scholarship':'AppointmentDayOfWeek'].apply(convert_to_categorical)\n"
   ]
  },
  {
   "cell_type": "code",
   "execution_count": 24,
   "metadata": {},
   "outputs": [
    {
     "name": "stdout",
     "output_type": "stream",
     "text": [
      "<class 'pandas.core.frame.DataFrame'>\n",
      "RangeIndex: 110527 entries, 0 to 110526\n",
      "Data columns (total 16 columns):\n",
      "PatientId               110527 non-null float64\n",
      "AppointmentID           110527 non-null int64\n",
      "Gender                  110527 non-null object\n",
      "ScheduledDay            110527 non-null datetime64[ns]\n",
      "AppointmentDay          110527 non-null datetime64[ns]\n",
      "Age                     110527 non-null int64\n",
      "Neighbourhood           110527 non-null object\n",
      "Scholarship             110527 non-null category\n",
      "Hipertension            110527 non-null category\n",
      "Diabetes                110527 non-null category\n",
      "Alcoholism              110527 non-null category\n",
      "Handcap                 110527 non-null category\n",
      "SMS_received            110527 non-null category\n",
      "Show                    110527 non-null category\n",
      "ScheduledDayOfWeek      110527 non-null category\n",
      "AppointmentDayOfWeek    110527 non-null category\n",
      "dtypes: category(9), datetime64[ns](2), float64(1), int64(2), object(2)\n",
      "memory usage: 6.9+ MB\n"
     ]
    }
   ],
   "source": [
    "df2.info()"
   ]
  },
  {
   "cell_type": "markdown",
   "metadata": {},
   "source": [
    "> We can see that by using the categorical datatype the memory usage decreases to 6.9 Mb from <a href=\"#memory\">11.8 Mb</a>."
   ]
  },
  {
   "cell_type": "markdown",
   "metadata": {},
   "source": [
    "**9)** Creating different Age Group from age column for better analysis based on age."
   ]
  },
  {
   "cell_type": "code",
   "execution_count": 25,
   "metadata": {},
   "outputs": [
    {
     "data": {
      "text/html": [
       "<div>\n",
       "<style>\n",
       "    .dataframe thead tr:only-child th {\n",
       "        text-align: right;\n",
       "    }\n",
       "\n",
       "    .dataframe thead th {\n",
       "        text-align: left;\n",
       "    }\n",
       "\n",
       "    .dataframe tbody tr th {\n",
       "        vertical-align: top;\n",
       "    }\n",
       "</style>\n",
       "<table border=\"1\" class=\"dataframe\">\n",
       "  <thead>\n",
       "    <tr style=\"text-align: right;\">\n",
       "      <th></th>\n",
       "      <th>min</th>\n",
       "      <th>max</th>\n",
       "    </tr>\n",
       "    <tr>\n",
       "      <th>AgeGroup</th>\n",
       "      <th></th>\n",
       "      <th></th>\n",
       "    </tr>\n",
       "  </thead>\n",
       "  <tbody>\n",
       "    <tr>\n",
       "      <th>Adult</th>\n",
       "      <td>26</td>\n",
       "      <td>60</td>\n",
       "    </tr>\n",
       "    <tr>\n",
       "      <th>Child</th>\n",
       "      <td>0</td>\n",
       "      <td>14</td>\n",
       "    </tr>\n",
       "    <tr>\n",
       "      <th>SeniorCitizen</th>\n",
       "      <td>61</td>\n",
       "      <td>115</td>\n",
       "    </tr>\n",
       "    <tr>\n",
       "      <th>Youth</th>\n",
       "      <td>15</td>\n",
       "      <td>25</td>\n",
       "    </tr>\n",
       "  </tbody>\n",
       "</table>\n",
       "</div>"
      ],
      "text/plain": [
       "               min  max\n",
       "AgeGroup               \n",
       "Adult           26   60\n",
       "Child            0   14\n",
       "SeniorCitizen   61  115\n",
       "Youth           15   25"
      ]
     },
     "execution_count": 25,
     "metadata": {},
     "output_type": "execute_result"
    }
   ],
   "source": [
    "# Creating a new column AgeGroup from the Age column\n",
    "df2['AgeGroup'] = pd.cut(df.Age,bins = [-1,14,25,60,150],labels = ['Child','Youth','Adult','SeniorCitizen'])\n",
    "\n",
    "# Aggregating the age to know minimum and maximum age of the AgeGroup column\n",
    "df2.groupby(['AgeGroup']).Age.agg([min,max])"
   ]
  },
  {
   "cell_type": "markdown",
   "metadata": {},
   "source": [
    "> Child : Age 0 to 14  \n",
    "Youth : Age 15 to 25  \n",
    "Adult : Age 26 to 60  \n",
    "SeniorCitizen : more than 60"
   ]
  },
  {
   "cell_type": "markdown",
   "metadata": {},
   "source": [
    "<a id='eda'></a>\n",
    "## Exploratory Data Analysis\n",
    "\n",
    "<a id='question1'></a>\n",
    "### Research Question 1 : Does the patient who receive SMS show-up more as comparied to those doesn't receive any SMS?"
   ]
  },
  {
   "cell_type": "code",
   "execution_count": 26,
   "metadata": {},
   "outputs": [
    {
     "data": {
      "text/plain": [
       "SMS_received\n",
       "0    0.832967\n",
       "1    0.724255\n",
       "Name: Show, dtype: float64"
      ]
     },
     "execution_count": 26,
     "metadata": {},
     "output_type": "execute_result"
    }
   ],
   "source": [
    "# Converting Show up  column to numerical so that it is easy to calculate stats.\n",
    "df2.Show = df2.Show.astype('int')\n",
    "\n",
    "# Grouping the data bty SMS_received column\n",
    "group = df2.groupby('SMS_received').Show\n",
    "\n",
    "# Finding the Show-up mean of the patient who receives the SMS and who doesn't.\n",
    "group.mean()"
   ]
  },
  {
   "cell_type": "code",
   "execution_count": 27,
   "metadata": {},
   "outputs": [
    {
     "data": {
      "text/plain": [
       "<matplotlib.text.Text at 0x18555689940>"
      ]
     },
     "execution_count": 27,
     "metadata": {},
     "output_type": "execute_result"
    },
    {
     "data": {
      "image/png": "[encoded data removed]",
      "text/plain": [
       "<matplotlib.figure.Figure at 0x185560cca90>"
      ]
     },
     "metadata": {},
     "output_type": "display_data"
    }
   ],
   "source": [
    "\n",
    "group.mean().plot.bar()                        # Plotting the bar plot \n",
    "plt.ylim((0.70,0.85))                          # Limiting the y axis\n",
    "plt.xticks(range(2),(\"No SMS Received\",'SMS Received'),rotation = 0) # Renaming the xticks\n",
    "plt.ylabel('Proportion of Show up for the appointment')  # Y axis labelling\n"
   ]
  },
  {
   "cell_type": "markdown",
   "metadata": {},
   "source": [
    "> As we can see that the 83% patient Shows-up on the day of appoinment who doesn't receives SMS and 72% Patient Shows-up on the day of appointment who does receive a SMS about the reminder of the appointment.  \n",
    "It means that the patient who doesn't receives the SMS are 11% more likely to shows-up on the day of appointment, which is a completely reverse case.  \n",
    "It mean that if the patient stop receiving SMS then the percentage of show-up may go up."
   ]
  },
  {
   "cell_type": "markdown",
   "metadata": {},
   "source": [
    "<a id='question2'></a>\n",
    "### Research Question 2 : Does the difference between the scheduled date and the actual date of appointment affect the patients show up?"
   ]
  },
  {
   "cell_type": "code",
   "execution_count": 28,
   "metadata": {},
   "outputs": [
    {
     "data": {
      "text/html": [
       "<div>\n",
       "<style>\n",
       "    .dataframe thead tr:only-child th {\n",
       "        text-align: right;\n",
       "    }\n",
       "\n",
       "    .dataframe thead th {\n",
       "        text-align: left;\n",
       "    }\n",
       "\n",
       "    .dataframe tbody tr th {\n",
       "        vertical-align: top;\n",
       "    }\n",
       "</style>\n",
       "<table border=\"1\" class=\"dataframe\">\n",
       "  <thead>\n",
       "    <tr style=\"text-align: right;\">\n",
       "      <th></th>\n",
       "      <th>PatientId</th>\n",
       "      <th>AppointmentID</th>\n",
       "      <th>Gender</th>\n",
       "      <th>ScheduledDay</th>\n",
       "      <th>AppointmentDay</th>\n",
       "      <th>Age</th>\n",
       "      <th>Neighbourhood</th>\n",
       "      <th>Scholarship</th>\n",
       "      <th>Hipertension</th>\n",
       "      <th>Diabetes</th>\n",
       "      <th>Alcoholism</th>\n",
       "      <th>Handcap</th>\n",
       "      <th>SMS_received</th>\n",
       "      <th>Show</th>\n",
       "      <th>ScheduledDayOfWeek</th>\n",
       "      <th>AppointmentDayOfWeek</th>\n",
       "      <th>AgeGroup</th>\n",
       "      <th>DaysDifference</th>\n",
       "    </tr>\n",
       "  </thead>\n",
       "  <tbody>\n",
       "    <tr>\n",
       "      <th>0</th>\n",
       "      <td>2.987250e+13</td>\n",
       "      <td>5642903</td>\n",
       "      <td>F</td>\n",
       "      <td>2016-04-29</td>\n",
       "      <td>2016-04-29</td>\n",
       "      <td>62</td>\n",
       "      <td>JARDIM DA PENHA</td>\n",
       "      <td>0</td>\n",
       "      <td>1</td>\n",
       "      <td>0</td>\n",
       "      <td>0</td>\n",
       "      <td>0</td>\n",
       "      <td>0</td>\n",
       "      <td>1</td>\n",
       "      <td>Friday</td>\n",
       "      <td>Friday</td>\n",
       "      <td>SeniorCitizen</td>\n",
       "      <td>0</td>\n",
       "    </tr>\n",
       "    <tr>\n",
       "      <th>1</th>\n",
       "      <td>5.589978e+14</td>\n",
       "      <td>5642503</td>\n",
       "      <td>M</td>\n",
       "      <td>2016-04-29</td>\n",
       "      <td>2016-04-29</td>\n",
       "      <td>56</td>\n",
       "      <td>JARDIM DA PENHA</td>\n",
       "      <td>0</td>\n",
       "      <td>0</td>\n",
       "      <td>0</td>\n",
       "      <td>0</td>\n",
       "      <td>0</td>\n",
       "      <td>0</td>\n",
       "      <td>1</td>\n",
       "      <td>Friday</td>\n",
       "      <td>Friday</td>\n",
       "      <td>Adult</td>\n",
       "      <td>0</td>\n",
       "    </tr>\n",
       "    <tr>\n",
       "      <th>2</th>\n",
       "      <td>4.262962e+12</td>\n",
       "      <td>5642549</td>\n",
       "      <td>F</td>\n",
       "      <td>2016-04-29</td>\n",
       "      <td>2016-04-29</td>\n",
       "      <td>62</td>\n",
       "      <td>MATA DA PRAIA</td>\n",
       "      <td>0</td>\n",
       "      <td>0</td>\n",
       "      <td>0</td>\n",
       "      <td>0</td>\n",
       "      <td>0</td>\n",
       "      <td>0</td>\n",
       "      <td>1</td>\n",
       "      <td>Friday</td>\n",
       "      <td>Friday</td>\n",
       "      <td>SeniorCitizen</td>\n",
       "      <td>0</td>\n",
       "    </tr>\n",
       "    <tr>\n",
       "      <th>3</th>\n",
       "      <td>8.679512e+11</td>\n",
       "      <td>5642828</td>\n",
       "      <td>F</td>\n",
       "      <td>2016-04-29</td>\n",
       "      <td>2016-04-29</td>\n",
       "      <td>8</td>\n",
       "      <td>PONTAL DE CAMBURI</td>\n",
       "      <td>0</td>\n",
       "      <td>0</td>\n",
       "      <td>0</td>\n",
       "      <td>0</td>\n",
       "      <td>0</td>\n",
       "      <td>0</td>\n",
       "      <td>1</td>\n",
       "      <td>Friday</td>\n",
       "      <td>Friday</td>\n",
       "      <td>Child</td>\n",
       "      <td>0</td>\n",
       "    </tr>\n",
       "    <tr>\n",
       "      <th>4</th>\n",
       "      <td>8.841186e+12</td>\n",
       "      <td>5642494</td>\n",
       "      <td>F</td>\n",
       "      <td>2016-04-29</td>\n",
       "      <td>2016-04-29</td>\n",
       "      <td>56</td>\n",
       "      <td>JARDIM DA PENHA</td>\n",
       "      <td>0</td>\n",
       "      <td>1</td>\n",
       "      <td>1</td>\n",
       "      <td>0</td>\n",
       "      <td>0</td>\n",
       "      <td>0</td>\n",
       "      <td>1</td>\n",
       "      <td>Friday</td>\n",
       "      <td>Friday</td>\n",
       "      <td>Adult</td>\n",
       "      <td>0</td>\n",
       "    </tr>\n",
       "  </tbody>\n",
       "</table>\n",
       "</div>"
      ],
      "text/plain": [
       "      PatientId  AppointmentID Gender ScheduledDay AppointmentDay  Age  \\\n",
       "0  2.987250e+13        5642903      F   2016-04-29     2016-04-29   62   \n",
       "1  5.589978e+14        5642503      M   2016-04-29     2016-04-29   56   \n",
       "2  4.262962e+12        5642549      F   2016-04-29     2016-04-29   62   \n",
       "3  8.679512e+11        5642828      F   2016-04-29     2016-04-29    8   \n",
       "4  8.841186e+12        5642494      F   2016-04-29     2016-04-29   56   \n",
       "\n",
       "       Neighbourhood Scholarship Hipertension Diabetes Alcoholism Handcap  \\\n",
       "0    JARDIM DA PENHA           0            1        0          0       0   \n",
       "1    JARDIM DA PENHA           0            0        0          0       0   \n",
       "2      MATA DA PRAIA           0            0        0          0       0   \n",
       "3  PONTAL DE CAMBURI           0            0        0          0       0   \n",
       "4    JARDIM DA PENHA           0            1        1          0       0   \n",
       "\n",
       "  SMS_received  Show ScheduledDayOfWeek AppointmentDayOfWeek       AgeGroup  \\\n",
       "0            0     1             Friday               Friday  SeniorCitizen   \n",
       "1            0     1             Friday               Friday          Adult   \n",
       "2            0     1             Friday               Friday  SeniorCitizen   \n",
       "3            0     1             Friday               Friday          Child   \n",
       "4            0     1             Friday               Friday          Adult   \n",
       "\n",
       "   DaysDifference  \n",
       "0               0  \n",
       "1               0  \n",
       "2               0  \n",
       "3               0  \n",
       "4               0  "
      ]
     },
     "execution_count": 28,
     "metadata": {},
     "output_type": "execute_result"
    }
   ],
   "source": [
    "# Creating a new column which will hold the difference between the Appointment date \n",
    "# and the Scheduled date in terms of days.\n",
    "df2['DaysDifference'] = (df2.AppointmentDay - df2.ScheduledDay)\n",
    "\n",
    "# Extracting the numerical value of number of days from the timedelta data type by first\n",
    "# converting the column into string and then applying the split function using apply on each observation\n",
    "# then converting back into an integer datatype\n",
    "df2['DaysDifference'] = df2.DaysDifference.astype(str).apply(lambda x:x.split(' ')[0]).astype(int)\n",
    "\n",
    "df2.head() # First five observations of DaysDifference column after wrangling"
   ]
  },
  {
   "cell_type": "markdown",
   "metadata": {},
   "source": [
    "#### Exploring the question graphically:"
   ]
  },
  {
   "cell_type": "code",
   "execution_count": 29,
   "metadata": {},
   "outputs": [
    {
     "data": {
      "text/plain": [
       "<matplotlib.axes._axes.Axes at 0x185558b5e80>"
      ]
     },
     "execution_count": 29,
     "metadata": {},
     "output_type": "execute_result"
    },
    {
     "data": {
      "image/png": "[encoded data removed]",
      "text/plain": [
       "<matplotlib.figure.Figure at 0x1855588c160>"
      ]
     },
     "metadata": {},
     "output_type": "display_data"
    }
   ],
   "source": [
    "# Setting the position and size of the graph using plt.axes\n",
    "plt.axes((0.05,0.05,0.9,1))\n",
    "\n",
    "# Plotting the \n",
    "df2.loc[df2.Show==0,'DaysDifference'].hist(range=(0,100),bins=20,color = 'orange')\n",
    "plt.xlabel(\"No. of days.\")\n",
    "plt.ylabel('Frequency')\n",
    "plt.title(\"Didn't Show-up on appointment day\")\n",
    "plt.axes((1.05,0.05,0.9,1))\n",
    "plt.xlabel(\"No. of days.\")\n",
    "plt.title(\"Show-up on appointment day\")\n",
    "df2.loc[df2.Show==1,'DaysDifference'].hist(range=(0,100),bins=20)\n"
   ]
  },
  {
   "cell_type": "markdown",
   "metadata": {},
   "source": [
    "> From the histogram it is clear that the patient who book the appointment within just next 5 days are more likely to show up on the day of appointment"
   ]
  },
  {
   "cell_type": "markdown",
   "metadata": {},
   "source": [
    "#### Exploring the question mathematically:"
   ]
  },
  {
   "cell_type": "code",
   "execution_count": 30,
   "metadata": {},
   "outputs": [
    {
     "name": "stdout",
     "output_type": "stream",
     "text": [
      "Percentage Show up when day Difference is <= 0 is 0.9534069695084008\n",
      "Percentage Show up when day Difference is > 0 is 0.714809822259898\n",
      "\n",
      "Percentage Show up when day Difference is <= 1 is 0.9335328110367511\n",
      "Percentage Show up when day Difference is > 1 is 0.7092110388637521\n",
      "\n",
      "Percentage Show up when day Difference is <= 2 is 0.9106640795153051\n",
      "Percentage Show up when day Difference is > 2 is 0.7033205044900951\n",
      "\n",
      "Percentage Show up when day Difference is <= 3 is 0.9031609789080255\n",
      "Percentage Show up when day Difference is > 3 is 0.7003875427693597\n",
      "\n",
      "Percentage Show up when day Difference is <= 4 is 0.8908820665265748\n",
      "Percentage Show up when day Difference is > 4 is 0.6935800284648229\n",
      "\n",
      "Percentage Show up when day Difference is <= 5 is 0.882559456398641\n",
      "Percentage Show up when day Difference is > 5 is 0.690867664265041\n",
      "\n",
      "Percentage Show up when day Difference is <= 6 is 0.8745576867586982\n",
      "Percentage Show up when day Difference is > 6 is 0.6853401969561325\n",
      "\n",
      "Percentage Show up when day Difference is <= 7 is 0.8647548513843936\n",
      "Percentage Show up when day Difference is > 7 is 0.6794388293860311\n",
      "\n",
      "Percentage Show up when day Difference is <= 8 is 0.8599028528425806\n",
      "Percentage Show up when day Difference is > 8 is 0.6773676619838683\n",
      "\n",
      "Percentage Show up when day Difference is <= 9 is 0.8570223590842148\n",
      "Percentage Show up when day Difference is > 9 is 0.6751960264531072\n",
      "\n"
     ]
    }
   ],
   "source": [
    "# We will use for loop to see the difference between days\n",
    "for i in range(0,10):\n",
    "\n",
    "    print('Percentage Show up when day Difference is <= {} is {}'.format(i,df2.loc[df2.DaysDifference <= i,'Show'].mean()))\n",
    "    print('Percentage Show up when day Difference is > {} is {}\\n'.format(i,df2.loc[df2.DaysDifference > i,'Show'].mean()))"
   ]
  },
  {
   "cell_type": "markdown",
   "metadata": {},
   "source": [
    "> From the above output it is clear that the minimum the days of difference between Scheduled day and Actual appointment day the more the chances the patient will show up on the day of Appointment."
   ]
  },
  {
   "cell_type": "markdown",
   "metadata": {},
   "source": [
    "<a id=\"question3\"></a>\n",
    "### Research Question 3 : Which Age Group is more likely to show up on the day of appointment?"
   ]
  },
  {
   "cell_type": "code",
   "execution_count": 31,
   "metadata": {},
   "outputs": [
    {
     "data": {
      "text/plain": [
       "AgeGroup\n",
       "Adult            79.881146\n",
       "Child            78.819280\n",
       "SeniorCitizen    84.788989\n",
       "Youth            74.631730\n",
       "Name: Show, dtype: float64"
      ]
     },
     "execution_count": 31,
     "metadata": {},
     "output_type": "execute_result"
    }
   ],
   "source": [
    "# Grouping the data by ageGroup  and then calulating the mean of Show column\n",
    "ageGroupMeanShow =  df2.groupby('AgeGroup').Show.mean()*100\n",
    "ageGroupMeanShow"
   ]
  },
  {
   "cell_type": "code",
   "execution_count": 32,
   "metadata": {},
   "outputs": [
    {
     "data": {
      "text/plain": [
       "<matplotlib.text.Text at 0x18555fdd2b0>"
      ]
     },
     "execution_count": 32,
     "metadata": {},
     "output_type": "execute_result"
    },
    {
     "data": {
      "image/png": "[encoded data removed]",
      "text/plain": [
       "<matplotlib.figure.Figure at 0x18555f81dd8>"
      ]
     },
     "metadata": {},
     "output_type": "display_data"
    }
   ],
   "source": [
    "# Bar plot \n",
    "ageGroupMeanShow.plot.bar(color = 'magenta')\n",
    "plt.ylim((73,86))\n",
    "plt.ylabel('Percentage of Presence')"
   ]
  },
  {
   "cell_type": "markdown",
   "metadata": {},
   "source": [
    "> From the graph we can say that Senior Citizen (Age > 60) are more likely to show-up for the booked Appoinment and Youth (Age 15 to 25) are least likely to show-up for the booked appointment."
   ]
  },
  {
   "cell_type": "markdown",
   "metadata": {},
   "source": [
    "<a id='question4'></a>\n",
    "### Research Question 4: For which condition the patient show-up is the highest? "
   ]
  },
  {
   "cell_type": "code",
   "execution_count": 33,
   "metadata": {},
   "outputs": [
    {
     "data": {
      "text/plain": [
       "Hipertension    82.698041\n",
       "Diabetes        81.996727\n",
       "Alcoholism      79.851190\n",
       "Handcap         81.838465\n",
       "dtype: float64"
      ]
     },
     "execution_count": 33,
     "metadata": {},
     "output_type": "execute_result"
    }
   ],
   "source": [
    "# Function to find percentage persence on the appointment according to the condition for which patient want to visit\n",
    "def mean_of_the_series(condition):\n",
    "    return df2.loc[condition == 1,'Show'].mean()*100\n",
    "\n",
    "# Finding the mean persence of all 4 condition using apply and mean_of_the_series function\n",
    "Condition_Series = df2.loc[:,'Hipertension':'Handcap'].apply(mean_of_the_series)\n",
    "Condition_Series"
   ]
  },
  {
   "cell_type": "code",
   "execution_count": 34,
   "metadata": {},
   "outputs": [
    {
     "data": {
      "text/plain": [
       "<matplotlib.text.Text at 0x18555724c50>"
      ]
     },
     "execution_count": 34,
     "metadata": {},
     "output_type": "execute_result"
    },
    {
     "data": {
      "image/png": "[encoded data removed]",
      "text/plain": [
       "<matplotlib.figure.Figure at 0x185564e75f8>"
      ]
     },
     "metadata": {},
     "output_type": "display_data"
    }
   ],
   "source": [
    "# Bar plot of all 4 condition mean presence percentage\n",
    "Condition_Series.plot.bar(color = 'green')\n",
    "plt.ylim((79,83))\n",
    "plt.ylabel('Percentage Presence')\n"
   ]
  },
  {
   "cell_type": "markdown",
   "metadata": {},
   "source": [
    "> From the above bar graph we can say that the patient suffering from Alcoholism are least likely to Show-up on the day of appoointment while the Hypertension Patient are most likely to show up on the day of Appointment.  "
   ]
  },
  {
   "cell_type": "markdown",
   "metadata": {},
   "source": [
    "<a id='question5'></a>\n",
    "### Research Question 5: Does the patient who got scholarship have less presence or more as compaired to those who didn't get scholarship?"
   ]
  },
  {
   "cell_type": "code",
   "execution_count": 35,
   "metadata": {},
   "outputs": [
    {
     "data": {
      "text/plain": [
       "Scholarship\n",
       "0    80.192844\n",
       "1    76.263696\n",
       "Name: Show, dtype: float64"
      ]
     },
     "execution_count": 35,
     "metadata": {},
     "output_type": "execute_result"
    }
   ],
   "source": [
    "# Calculating the percentage of show-up according to scholarship\n",
    "scholarship_show = df2.groupby('Scholarship').Show.mean()*100\n",
    "scholarship_show"
   ]
  },
  {
   "cell_type": "code",
   "execution_count": 36,
   "metadata": {},
   "outputs": [
    {
     "data": {
      "text/plain": [
       "<matplotlib.text.Text at 0x185565a19e8>"
      ]
     },
     "execution_count": 36,
     "metadata": {},
     "output_type": "execute_result"
    },
    {
     "data": {
      "image/png": "[encoded data removed]",
      "text/plain": [
       "<matplotlib.figure.Figure at 0x18556587518>"
      ]
     },
     "metadata": {},
     "output_type": "display_data"
    }
   ],
   "source": [
    "scholarship_show.plot.bar(color = 'red')                           # Bar plot of scholarship_show\n",
    "plt.ylim((75,81))                                                  # Limiting the y axis\n",
    "plt.xticks(range(2),(\"No Scholarship\",'Scholarship'),rotation = 0) # Renaming the xticks\n",
    "plt.ylabel('Presence Percentage')                                  # Y axis labelling\n"
   ]
  },
  {
   "cell_type": "markdown",
   "metadata": {},
   "source": [
    "> The patient who were getting scholarship from the government were more absent as compaired to those who didn't got any scholarship.  \n",
    "It means that the patient who were getting scholarship took it for granted."
   ]
  },
  {
   "cell_type": "markdown",
   "metadata": {},
   "source": [
    "<a id='question6'></a>\n",
    "### Research Question 6: What is the percentage of show-up on the appointment day according to the day of the week?"
   ]
  },
  {
   "cell_type": "code",
   "execution_count": 37,
   "metadata": {},
   "outputs": [
    {
     "data": {
      "text/html": [
       "<div>\n",
       "<style>\n",
       "    .dataframe thead tr:only-child th {\n",
       "        text-align: right;\n",
       "    }\n",
       "\n",
       "    .dataframe thead th {\n",
       "        text-align: left;\n",
       "    }\n",
       "\n",
       "    .dataframe tbody tr th {\n",
       "        vertical-align: top;\n",
       "    }\n",
       "</style>\n",
       "<table border=\"1\" class=\"dataframe\">\n",
       "  <thead>\n",
       "    <tr style=\"text-align: right;\">\n",
       "      <th></th>\n",
       "      <th>Age</th>\n",
       "      <th>Show</th>\n",
       "      <th>AppointmentID</th>\n",
       "    </tr>\n",
       "    <tr>\n",
       "      <th>AppointmentDayOfWeek</th>\n",
       "      <th></th>\n",
       "      <th></th>\n",
       "      <th></th>\n",
       "    </tr>\n",
       "  </thead>\n",
       "  <tbody>\n",
       "    <tr>\n",
       "      <th>Friday</th>\n",
       "      <td>37.054735</td>\n",
       "      <td>0.787739</td>\n",
       "      <td>19019</td>\n",
       "    </tr>\n",
       "    <tr>\n",
       "      <th>Monday</th>\n",
       "      <td>36.825930</td>\n",
       "      <td>0.793529</td>\n",
       "      <td>22715</td>\n",
       "    </tr>\n",
       "    <tr>\n",
       "      <th>Saturday</th>\n",
       "      <td>53.589744</td>\n",
       "      <td>0.769231</td>\n",
       "      <td>39</td>\n",
       "    </tr>\n",
       "    <tr>\n",
       "      <th>Thursday</th>\n",
       "      <td>37.240216</td>\n",
       "      <td>0.806459</td>\n",
       "      <td>17247</td>\n",
       "    </tr>\n",
       "    <tr>\n",
       "      <th>Tuesday</th>\n",
       "      <td>37.259360</td>\n",
       "      <td>0.799064</td>\n",
       "      <td>25640</td>\n",
       "    </tr>\n",
       "    <tr>\n",
       "      <th>Wednesday</th>\n",
       "      <td>37.050141</td>\n",
       "      <td>0.803108</td>\n",
       "      <td>25867</td>\n",
       "    </tr>\n",
       "  </tbody>\n",
       "</table>\n",
       "</div>"
      ],
      "text/plain": [
       "                            Age      Show  AppointmentID\n",
       "AppointmentDayOfWeek                                    \n",
       "Friday                37.054735  0.787739          19019\n",
       "Monday                36.825930  0.793529          22715\n",
       "Saturday              53.589744  0.769231             39\n",
       "Thursday              37.240216  0.806459          17247\n",
       "Tuesday               37.259360  0.799064          25640\n",
       "Wednesday             37.050141  0.803108          25867"
      ]
     },
     "execution_count": 37,
     "metadata": {},
     "output_type": "execute_result"
    }
   ],
   "source": [
    "# Creating a stat table of dataframe grouped by Day of Week of Appointment then \n",
    "# aggregating the age and show by mean and count for AppointmentId.\n",
    "\n",
    "weekdays = df2.groupby('AppointmentDayOfWeek')[['Age','Show',\n",
    "                                                'AppointmentID']].agg({'Age':'mean','Show':'mean','AppointmentID':'count'})\n",
    "weekdays"
   ]
  },
  {
   "cell_type": "markdown",
   "metadata": {},
   "source": [
    "> The number of Appointment on saturday is only 39 as compaired to weekdays which have appointment multiple of 10K and also the average age of patient on saturday is around 54 and during weekdays it is around 37.  \n",
    "From this observation we can say that younger generation prefer weekdays for medical appointment."
   ]
  },
  {
   "cell_type": "code",
   "execution_count": 38,
   "metadata": {},
   "outputs": [
    {
     "data": {
      "text/plain": [
       "<matplotlib.text.Text at 0x185566644e0>"
      ]
     },
     "execution_count": 38,
     "metadata": {},
     "output_type": "execute_result"
    },
    {
     "data": {
      "image/png": "[encoded data removed]",
      "text/plain": [
       "<matplotlib.figure.Figure at 0x18556622320>"
      ]
     },
     "metadata": {},
     "output_type": "display_data"
    }
   ],
   "source": [
    "# First dropped the Saturday row from weekdays then multiplied mean of show with 100 \n",
    "# and finally plotting the bar of remaining weekdays \n",
    "(weekdays.drop('Saturday',axis=0)['Show']*100).plot.bar()\n",
    "plt.ylim((78,81))  # Limiting the y axis\n",
    "plt.ylabel('Percentage Persence')\n"
   ]
  },
  {
   "cell_type": "markdown",
   "metadata": {},
   "source": [
    "> From the above graph we can say that patients is more likely to miss their appointment if they booked on moday or friday."
   ]
  },
  {
   "cell_type": "markdown",
   "metadata": {},
   "source": [
    "<a id='conclusions'></a>\n",
    "## Conclusions\n"
   ]
  },
  {
   "cell_type": "markdown",
   "metadata": {},
   "source": [
    "<a href = \"#question1\">From Question 1</a>  \n",
    "The patients who didn't received the SMS are more likely to be present on the day of actual appointment as compaired to those who received SMS. In real this should be reverse. But may be the content of the SMS is demotivating the people and they choose not to attend the appointment.\n",
    "  \n",
    "<a href = \"#question2\">From Question 2</a>  \n",
    "The patient is more likely to be present on the day of actual appointment if the difference between the acutal appointment day and the appointment booking day in terms of days is as few as possible. The reason for this is that the people tend to forget when the the appointment day is far from the booking day.\n",
    "  \n",
    "<a href = \"#question3\">From Question 3</a>  \n",
    "The patient is more likely to be present on the day of actual appointment if his/her age fall in the category of Senior Citizen and is less likely to be present if his/her age falls in the category of Youth. This may be due that senior citizen are more serious and reposible as compaired to the youth.  \n",
    "  \n",
    "<a href = \"#question4\">From Question 4</a>  \n",
    "The patient suffering from alcoholism are less likely to be present on the day of appointment as compaired to hypertension patient, handicap patient and diabetes patient. The reason for this is that the patients addicted to alcohol are so addicted that they couldn't resist the urge of drinking alcohol even on the day of appointment and after that they are not in the state that they could reach the medical centre or even.  \n",
    "  \n",
    "<a href = \"#question5\">From Question 5</a>  \n",
    "The patient who didn't got the scholarship are more likely to be present on the day of appointment as compaired to those who got the scholarship. This may be due to that people who got the scholarship take the appointed as granted and didn't care if they show-up or not on the actual day of appointment.  \n",
    "  \n",
    "<a href = \"#question6\">From Question 6</a>  \n",
    "The patients who booked their appointment on the monday and friday are more likely to miss the appointment as compaired to the rest of the three middle days. This may be due to that monday and friday are at the ends of weekend days saturday and sunday and people don't like to go out and work on these days. So it may be a psycological reason."
   ]
  },
  {
   "cell_type": "markdown",
   "metadata": {},
   "source": [
    "### Limitations  \n",
    "1). In all the categorical column (Hipertension, Handcap, SMS_received, Diabetes ,Alcoholism and Scholorship) we have taken the value 0  as a False value but it may be the case in some observation that 0 is represent the missing value and if that is the case than our analysis would completely change.  \n",
    "  \n",
    "2). Instead of just a date value in AppointmentDay column if there was also a time value then first we could have checked whether the date and time of ScheduledDay is equal or less than the AppointmentDay properly and also we could have analysed the show-up according to the time of the day whether the show-up is low or high during morning, afternoon, or evening.  \n",
    "  \n",
    "3). If the dataset had a detail about the state/region of the neighbourhood column then we could have analysed about the show up based on every state/region in Brazil. "
   ]
  },
  {
   "cell_type": "markdown",
   "metadata": {},
   "source": [
    "<a href=\"#intro\">To the Top</a>"
   ]
  },
  {
   "cell_type": "markdown",
   "metadata": {},
   "source": [
    "** It was lot of fun doing this project. I thoroughly enjoyed doing this.**\n",
    "\n",
    "### THANK YOU "
   ]
  },
  {
   "cell_type": "code",
   "execution_count": null,
   "metadata": {
    "collapsed": true
   },
   "outputs": [],
   "source": []
  }
 ],
 "metadata": {
  "kernelspec": {
   "display_name": "Python 3",
   "language": "python",
   "name": "python3"
  },
  "language_info": {
   "codemirror_mode": {
    "name": "ipython",
    "version": 3
   },
   "file_extension": ".py",
   "mimetype": "text/x-python",
   "name": "python",
   "nbconvert_exporter": "python",
   "pygments_lexer": "ipython3",
   "version": "3.6.1"
  }
 },
 "nbformat": 4,
 "nbformat_minor": 2
}
